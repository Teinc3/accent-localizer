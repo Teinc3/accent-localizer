{
 "cells": [
  {
   "cell_type": "markdown",
   "metadata": {},
   "source": [
    "# Accent Localizer\n",
    "\n",
    "Read README.md for problem description."
   ]
  },
  {
   "cell_type": "markdown",
   "metadata": {},
   "source": [
    "### Imports"
   ]
  },
  {
   "cell_type": "code",
   "execution_count": 1,
   "metadata": {},
   "outputs": [],
   "source": [
    "import os\n",
    "from datetime import datetime\n",
    "\n",
    "import pandas as pd\n",
    "import librosa\n",
    "import librosa.display\n",
    "import matplotlib.pyplot as plt\n",
    "import numpy as np\n",
    "import sklearn"
   ]
  },
  {
   "cell_type": "markdown",
   "metadata": {},
   "source": [
    "### Sample some data"
   ]
  },
  {
   "cell_type": "code",
   "execution_count": 2,
   "metadata": {},
   "outputs": [],
   "source": [
    "# df = pd.read_csv(os.path.join('__dataset', 'validated_regions.tsv'), sep='\\t')\n",
    "# df.head(10)"
   ]
  },
  {
   "cell_type": "markdown",
   "metadata": {},
   "source": [
    "### Get the spectrogram of an audio file"
   ]
  },
  {
   "cell_type": "code",
   "execution_count": 3,
   "metadata": {},
   "outputs": [],
   "source": [
    "def get_spectrogram(path, sampling_rate = 48000, display = True):\n",
    "    # Load an audio file as a floating point time series.\n",
    "    audio , _ = librosa.load(path, sr=sampling_rate)\n",
    "\n",
    "    # Short-time Fourier transform (STFT).\n",
    "    stft = abs(librosa.stft(audio))\n",
    "\n",
    "    # Convert an amplitude spectrogram to dB-scaled spectrogram.\n",
    "    spectrogram = librosa.amplitude_to_db(stft)\n",
    "\n",
    "    if display:\n",
    "        plt.figure(figsize=(9, 3))\n",
    "        librosa.display.specshow(spectrogram, sr=sampling_rate, x_axis='time', y_axis='log')\n",
    "        plt.colorbar()\n",
    "    return spectrogram\n",
    "\n",
    "\n",
    "# _ = get_spectrogram(os.path.join('__dataset', 'clips', df.iloc[0]['path']))"
   ]
  },
  {
   "cell_type": "markdown",
   "metadata": {},
   "source": [
    "### Extract features using mfcc"
   ]
  },
  {
   "cell_type": "code",
   "execution_count": 4,
   "metadata": {},
   "outputs": [],
   "source": [
    "def extract_feature(path, sampling_rate = 48000):\n",
    "    features = []\n",
    "    audio, _ = librosa.load(path, sr=sampling_rate)\n",
    "\n",
    "    spectral_centroid = np.mean(librosa.feature.spectral_centroid(y=audio, sr=sampling_rate))\n",
    "    spectral_bandwidth = np.mean(librosa.feature.spectral_bandwidth(y=audio, sr=sampling_rate))\n",
    "    spectral_rolloff = np.mean(librosa.feature.spectral_rolloff(y=audio, sr=sampling_rate))\n",
    "    features.append(spectral_centroid)\n",
    "    features.append(spectral_bandwidth)\n",
    "    features.append(spectral_rolloff)\n",
    "    \n",
    "    mfcc = librosa.feature.mfcc(y=audio, sr=sampling_rate)\n",
    "    for el in mfcc:\n",
    "        features.append(np.mean(el))\n",
    "    \n",
    "    return np.asarray(features, dtype=float)\n",
    "\n",
    "# features = extract_feature(os.path.join('__dataset', 'clips', df.iloc[0]['path']))\n",
    "# print(features)\n",
    "# print(features.shape)"
   ]
  },
  {
   "cell_type": "markdown",
   "metadata": {},
   "source": [
    "### Create a new features file"
   ]
  },
  {
   "cell_type": "code",
   "execution_count": 5,
   "metadata": {},
   "outputs": [],
   "source": [
    "# Create a new file named feature_regions.tsv\n",
    "\n",
    "def create_header():\n",
    "    header = ['path', 'region', 'spectral_centroid', 'spectral_bandwidth', 'spectral_rolloff']\n",
    "    for i in range(1, 21):\n",
    "        header.append(f'mfcc{i}')\n",
    "    return header\n",
    "\n",
    "# Check if the file exists\n",
    "if not os.path.exists(os.path.join('__dataset', 'feature_regions.tsv')):\n",
    "    header = create_header()\n",
    "    # Save the header to the new file\n",
    "    with open(os.path.join('__dataset', 'feature_regions.tsv'), 'w') as f:\n",
    "        f.write('\\t'.join(header) + '\\n')"
   ]
  },
  {
   "cell_type": "markdown",
   "metadata": {},
   "source": [
    "### Add the new features to the dataset"
   ]
  },
  {
   "cell_type": "code",
   "execution_count": 7,
   "metadata": {},
   "outputs": [
    {
     "name": "stderr",
     "output_type": "stream",
     "text": [
      "C:\\Users\\Ron\\AppData\\Local\\Temp\\ipykernel_31100\\12429760.py:2: DtypeWarning: Columns (4) have mixed types. Specify dtype option on import or set low_memory=False.\n",
      "  df_val = pd.read_csv(os.path.join('__dataset', 'validated_regions.tsv'), sep='\\t')\n"
     ]
    },
    {
     "name": "stdout",
     "output_type": "stream",
     "text": [
      "Processed -1 rows (Currently at 981895) in 0:00:20.408512 seconds.\n"
     ]
    }
   ],
   "source": [
    "# Read the validated_regions.tsv file\n",
    "df_val = pd.read_csv(os.path.join('__dataset', 'validated_regions.tsv'), sep='\\t')\n",
    "\n",
    "# Read the feature_regions.tsv file\n",
    "df_feat = pd.read_csv(os.path.join('__dataset', 'feature_regions.tsv'), sep='\\t')\n",
    "\n",
    "# Check the last row of the feature_regions.tsv file where we left off\n",
    "# Locate the same row in the validated_regions.tsv file\n",
    "# Start from the next row\n",
    "start = 0\n",
    "if len(df_feat) > 0:\n",
    "    last_row = df_feat.iloc[-1]\n",
    "    for i, row in df_val.iterrows():\n",
    "        if row['path'] == last_row['path'] and row['region'] == last_row['region']:\n",
    "            start = i + 1\n",
    "            break\n",
    "\n",
    "# Extract features for each row in the validated_regions.tsv file\n",
    "now = datetime.now()\n",
    "try:\n",
    "    for i, row in df_val.iloc[start:].iterrows():\n",
    "        features = list()\n",
    "        features.append(row['path'])\n",
    "        features.append(row['region'])\n",
    "        features.extend(extract_feature(os.path.join('__dataset', 'clips', row['path'])))\n",
    "\n",
    "        # Convert the list to a pandas Series\n",
    "        features_series = pd.Series(features, index=df_feat.columns)\n",
    "        # Add this feature row to the feature_regions.tsv file\n",
    "        df_feat = pd.concat([df_feat, features_series.to_frame().T], ignore_index=True)\n",
    "\n",
    "except KeyboardInterrupt as e:\n",
    "    print(\"Interrupted by User, saving the progress...\")\n",
    "\n",
    "finally:\n",
    "    # Save the extracted features to the feature_regions.tsv file\n",
    "    if not df_feat.empty:\n",
    "        df_feat.to_csv(os.path.join('__dataset', 'feature_regions.tsv'), sep='\\t', index=False)\n",
    "    print(f'Processed {i - start} rows (Currently at {i}) in {datetime.now() - now} seconds.')\n",
    "\n"
   ]
  },
  {
   "cell_type": "markdown",
   "metadata": {},
   "source": [
    "### Read the new dataset"
   ]
  },
  {
   "cell_type": "code",
   "execution_count": 8,
   "metadata": {},
   "outputs": [
    {
     "name": "stdout",
     "output_type": "stream",
     "text": [
      "(981896, 25)\n"
     ]
    },
    {
     "data": {
      "text/html": [
       "<div>\n",
       "<style scoped>\n",
       "    .dataframe tbody tr th:only-of-type {\n",
       "        vertical-align: middle;\n",
       "    }\n",
       "\n",
       "    .dataframe tbody tr th {\n",
       "        vertical-align: top;\n",
       "    }\n",
       "\n",
       "    .dataframe thead th {\n",
       "        text-align: right;\n",
       "    }\n",
       "</style>\n",
       "<table border=\"1\" class=\"dataframe\">\n",
       "  <thead>\n",
       "    <tr style=\"text-align: right;\">\n",
       "      <th></th>\n",
       "      <th>path</th>\n",
       "      <th>region</th>\n",
       "      <th>spectral_centroid</th>\n",
       "      <th>spectral_bandwidth</th>\n",
       "      <th>spectral_rolloff</th>\n",
       "      <th>mfcc1</th>\n",
       "      <th>mfcc2</th>\n",
       "      <th>mfcc3</th>\n",
       "      <th>mfcc4</th>\n",
       "      <th>mfcc5</th>\n",
       "      <th>...</th>\n",
       "      <th>mfcc11</th>\n",
       "      <th>mfcc12</th>\n",
       "      <th>mfcc13</th>\n",
       "      <th>mfcc14</th>\n",
       "      <th>mfcc15</th>\n",
       "      <th>mfcc16</th>\n",
       "      <th>mfcc17</th>\n",
       "      <th>mfcc18</th>\n",
       "      <th>mfcc19</th>\n",
       "      <th>mfcc20</th>\n",
       "    </tr>\n",
       "  </thead>\n",
       "  <tbody>\n",
       "    <tr>\n",
       "      <th>0</th>\n",
       "      <td>common_voice_en_18188256.mp3</td>\n",
       "      <td>US</td>\n",
       "      <td>2409.024632</td>\n",
       "      <td>2228.604954</td>\n",
       "      <td>4200.772372</td>\n",
       "      <td>-408.687225</td>\n",
       "      <td>114.898460</td>\n",
       "      <td>22.125618</td>\n",
       "      <td>28.057556</td>\n",
       "      <td>16.119135</td>\n",
       "      <td>...</td>\n",
       "      <td>-9.584406</td>\n",
       "      <td>-5.741680</td>\n",
       "      <td>0.390766</td>\n",
       "      <td>-4.641408</td>\n",
       "      <td>-4.784164</td>\n",
       "      <td>-0.784246</td>\n",
       "      <td>-4.811479</td>\n",
       "      <td>-4.910629</td>\n",
       "      <td>-0.480534</td>\n",
       "      <td>-4.384648</td>\n",
       "    </tr>\n",
       "    <tr>\n",
       "      <th>1</th>\n",
       "      <td>common_voice_en_18365693.mp3</td>\n",
       "      <td>ENG</td>\n",
       "      <td>2089.631598</td>\n",
       "      <td>1642.213880</td>\n",
       "      <td>3755.718428</td>\n",
       "      <td>-511.576630</td>\n",
       "      <td>58.722153</td>\n",
       "      <td>17.822748</td>\n",
       "      <td>17.253529</td>\n",
       "      <td>7.460137</td>\n",
       "      <td>...</td>\n",
       "      <td>-3.235446</td>\n",
       "      <td>3.567869</td>\n",
       "      <td>-8.492783</td>\n",
       "      <td>-8.555759</td>\n",
       "      <td>2.172279</td>\n",
       "      <td>-0.194287</td>\n",
       "      <td>-2.059963</td>\n",
       "      <td>-3.107267</td>\n",
       "      <td>-3.119567</td>\n",
       "      <td>0.315794</td>\n",
       "    </tr>\n",
       "    <tr>\n",
       "      <th>2</th>\n",
       "      <td>common_voice_en_37476269.mp3</td>\n",
       "      <td>US</td>\n",
       "      <td>3093.254323</td>\n",
       "      <td>2352.668738</td>\n",
       "      <td>5516.066576</td>\n",
       "      <td>-480.461670</td>\n",
       "      <td>85.764786</td>\n",
       "      <td>-4.059172</td>\n",
       "      <td>17.750950</td>\n",
       "      <td>-1.746198</td>\n",
       "      <td>...</td>\n",
       "      <td>2.759371</td>\n",
       "      <td>1.038021</td>\n",
       "      <td>-10.041793</td>\n",
       "      <td>-2.420133</td>\n",
       "      <td>-3.028334</td>\n",
       "      <td>1.352895</td>\n",
       "      <td>-3.097048</td>\n",
       "      <td>-5.563266</td>\n",
       "      <td>-4.861118</td>\n",
       "      <td>-4.862718</td>\n",
       "    </tr>\n",
       "    <tr>\n",
       "      <th>3</th>\n",
       "      <td>common_voice_en_36734620.mp3</td>\n",
       "      <td>IN</td>\n",
       "      <td>2125.562450</td>\n",
       "      <td>2018.055752</td>\n",
       "      <td>3924.703125</td>\n",
       "      <td>-438.528076</td>\n",
       "      <td>114.852501</td>\n",
       "      <td>-7.446562</td>\n",
       "      <td>22.603617</td>\n",
       "      <td>17.964239</td>\n",
       "      <td>...</td>\n",
       "      <td>-5.128350</td>\n",
       "      <td>1.996150</td>\n",
       "      <td>1.782230</td>\n",
       "      <td>-1.746590</td>\n",
       "      <td>-0.763503</td>\n",
       "      <td>6.045454</td>\n",
       "      <td>-6.940437</td>\n",
       "      <td>-2.127368</td>\n",
       "      <td>2.764166</td>\n",
       "      <td>-5.019787</td>\n",
       "    </tr>\n",
       "    <tr>\n",
       "      <th>4</th>\n",
       "      <td>common_voice_en_39751075.mp3</td>\n",
       "      <td>US</td>\n",
       "      <td>2680.516876</td>\n",
       "      <td>2243.703085</td>\n",
       "      <td>5180.477061</td>\n",
       "      <td>-428.202484</td>\n",
       "      <td>127.075439</td>\n",
       "      <td>-10.228079</td>\n",
       "      <td>20.300951</td>\n",
       "      <td>10.073876</td>\n",
       "      <td>...</td>\n",
       "      <td>-7.519221</td>\n",
       "      <td>-1.975837</td>\n",
       "      <td>-8.451154</td>\n",
       "      <td>-6.741172</td>\n",
       "      <td>-3.357370</td>\n",
       "      <td>-3.633816</td>\n",
       "      <td>-9.006715</td>\n",
       "      <td>0.602840</td>\n",
       "      <td>1.370205</td>\n",
       "      <td>-5.774405</td>\n",
       "    </tr>\n",
       "  </tbody>\n",
       "</table>\n",
       "<p>5 rows × 25 columns</p>\n",
       "</div>"
      ],
      "text/plain": [
       "                           path region  spectral_centroid  spectral_bandwidth  \\\n",
       "0  common_voice_en_18188256.mp3     US        2409.024632         2228.604954   \n",
       "1  common_voice_en_18365693.mp3    ENG        2089.631598         1642.213880   \n",
       "2  common_voice_en_37476269.mp3     US        3093.254323         2352.668738   \n",
       "3  common_voice_en_36734620.mp3     IN        2125.562450         2018.055752   \n",
       "4  common_voice_en_39751075.mp3     US        2680.516876         2243.703085   \n",
       "\n",
       "   spectral_rolloff       mfcc1       mfcc2      mfcc3      mfcc4      mfcc5  \\\n",
       "0       4200.772372 -408.687225  114.898460  22.125618  28.057556  16.119135   \n",
       "1       3755.718428 -511.576630   58.722153  17.822748  17.253529   7.460137   \n",
       "2       5516.066576 -480.461670   85.764786  -4.059172  17.750950  -1.746198   \n",
       "3       3924.703125 -438.528076  114.852501  -7.446562  22.603617  17.964239   \n",
       "4       5180.477061 -428.202484  127.075439 -10.228079  20.300951  10.073876   \n",
       "\n",
       "   ...    mfcc11    mfcc12     mfcc13    mfcc14    mfcc15    mfcc16    mfcc17  \\\n",
       "0  ... -9.584406 -5.741680   0.390766 -4.641408 -4.784164 -0.784246 -4.811479   \n",
       "1  ... -3.235446  3.567869  -8.492783 -8.555759  2.172279 -0.194287 -2.059963   \n",
       "2  ...  2.759371  1.038021 -10.041793 -2.420133 -3.028334  1.352895 -3.097048   \n",
       "3  ... -5.128350  1.996150   1.782230 -1.746590 -0.763503  6.045454 -6.940437   \n",
       "4  ... -7.519221 -1.975837  -8.451154 -6.741172 -3.357370 -3.633816 -9.006715   \n",
       "\n",
       "     mfcc18    mfcc19    mfcc20  \n",
       "0 -4.910629 -0.480534 -4.384648  \n",
       "1 -3.107267 -3.119567  0.315794  \n",
       "2 -5.563266 -4.861118 -4.862718  \n",
       "3 -2.127368  2.764166 -5.019787  \n",
       "4  0.602840  1.370205 -5.774405  \n",
       "\n",
       "[5 rows x 25 columns]"
      ]
     },
     "execution_count": 8,
     "metadata": {},
     "output_type": "execute_result"
    }
   ],
   "source": [
    "data = pd.read_csv(os.path.join('__dataset', 'feature_regions.tsv'), sep='\\t')\n",
    "print(data.shape)\n",
    "data.head()"
   ]
  },
  {
   "cell_type": "markdown",
   "metadata": {},
   "source": [
    "### Encode labels"
   ]
  },
  {
   "cell_type": "code",
   "execution_count": 10,
   "metadata": {},
   "outputs": [
    {
     "name": "stdout",
     "output_type": "stream",
     "text": [
      "labels:  ['AUS' 'CAB' 'CEL' 'EAF' 'EAU' 'ENG' 'ETA' 'EU' 'FR' 'GER' 'HIS' 'IN' 'ME'\n",
      " 'SEA' 'US' 'WAF' 'ZA']\n"
     ]
    }
   ],
   "source": [
    "from sklearn.preprocessing import LabelEncoder, StandardScaler\n",
    "\n",
    "def get_labels(data):\n",
    "    labels = data.iloc[:, 1]\n",
    "    encoder = LabelEncoder()\n",
    "    labels = encoder.fit_transform(labels)\n",
    "    return labels, encoder\n",
    "\n",
    "y, encoder = get_labels(data)\n",
    "labels = encoder.classes_\n",
    "print(\"labels: \", labels)"
   ]
  },
  {
   "cell_type": "markdown",
   "metadata": {},
   "source": [
    "### Scaling features"
   ]
  },
  {
   "cell_type": "code",
   "execution_count": 11,
   "metadata": {},
   "outputs": [],
   "source": [
    "def scale_features(data):\n",
    "    scaler = StandardScaler()\n",
    "    scaled_data = scaler.fit_transform(np.array(data.iloc[:, 2:], dtype=float))\n",
    "        \n",
    "    return scaled_data, scaler\n",
    "\n",
    "x, scaler = scale_features(data)"
   ]
  },
  {
   "cell_type": "markdown",
   "metadata": {},
   "source": [
    "### Train Test Validation Split"
   ]
  },
  {
   "cell_type": "code",
   "execution_count": 13,
   "metadata": {},
   "outputs": [
    {
     "name": "stdout",
     "output_type": "stream",
     "text": [
      "(785516, 23) (98190, 23) (98190, 23)\n"
     ]
    }
   ],
   "source": [
    "from sklearn.model_selection import train_test_split\n",
    "x_train, x_test, y_train, y_test = train_test_split(x, y, test_size=0.2, random_state=42, stratify=y)\n",
    "x_test, x_val, y_test, y_val = train_test_split(x_test, y_test, test_size=0.5, random_state=42, stratify=y_test)\n",
    "\n",
    "print(x_train.shape, x_test.shape, x_val.shape)"
   ]
  },
  {
   "cell_type": "markdown",
   "metadata": {},
   "source": [
    "### Classification Model!"
   ]
  },
  {
   "cell_type": "code",
   "execution_count": 21,
   "metadata": {},
   "outputs": [
    {
     "name": "stderr",
     "output_type": "stream",
     "text": [
      "C:\\Users\\Ron\\AppData\\Roaming\\Python\\Python311\\site-packages\\keras\\src\\layers\\convolutional\\base_conv.py:99: UserWarning: Do not pass an `input_shape`/`input_dim` argument to a layer. When using Sequential models, prefer using an `Input(shape)` object as the first layer in the model instead.\n",
      "  super().__init__(\n"
     ]
    },
    {
     "data": {
      "text/html": [
       "<pre style=\"white-space:pre;overflow-x:auto;line-height:normal;font-family:Menlo,'DejaVu Sans Mono',consolas,'Courier New',monospace\"><span style=\"font-weight: bold\">Model: \"sequential_6\"</span>\n",
       "</pre>\n"
      ],
      "text/plain": [
       "\u001b[1mModel: \"sequential_6\"\u001b[0m\n"
      ]
     },
     "metadata": {},
     "output_type": "display_data"
    },
    {
     "data": {
      "text/html": [
       "<pre style=\"white-space:pre;overflow-x:auto;line-height:normal;font-family:Menlo,'DejaVu Sans Mono',consolas,'Courier New',monospace\">┏━━━━━━━━━━━━━━━━━━━━━━━━━━━━━━━━━┳━━━━━━━━━━━━━━━━━━━━━━━━┳━━━━━━━━━━━━━━━┓\n",
       "┃<span style=\"font-weight: bold\"> Layer (type)                    </span>┃<span style=\"font-weight: bold\"> Output Shape           </span>┃<span style=\"font-weight: bold\">       Param # </span>┃\n",
       "┡━━━━━━━━━━━━━━━━━━━━━━━━━━━━━━━━━╇━━━━━━━━━━━━━━━━━━━━━━━━╇━━━━━━━━━━━━━━━┩\n",
       "│ conv1d_16 (<span style=\"color: #0087ff; text-decoration-color: #0087ff\">Conv1D</span>)              │ (<span style=\"color: #00d7ff; text-decoration-color: #00d7ff\">None</span>, <span style=\"color: #00af00; text-decoration-color: #00af00\">22</span>, <span style=\"color: #00af00; text-decoration-color: #00af00\">128</span>)        │           <span style=\"color: #00af00; text-decoration-color: #00af00\">384</span> │\n",
       "├─────────────────────────────────┼────────────────────────┼───────────────┤\n",
       "│ max_pooling1d_15 (<span style=\"color: #0087ff; text-decoration-color: #0087ff\">MaxPooling1D</span>) │ (<span style=\"color: #00d7ff; text-decoration-color: #00d7ff\">None</span>, <span style=\"color: #00af00; text-decoration-color: #00af00\">22</span>, <span style=\"color: #00af00; text-decoration-color: #00af00\">128</span>)        │             <span style=\"color: #00af00; text-decoration-color: #00af00\">0</span> │\n",
       "├─────────────────────────────────┼────────────────────────┼───────────────┤\n",
       "│ conv1d_17 (<span style=\"color: #0087ff; text-decoration-color: #0087ff\">Conv1D</span>)              │ (<span style=\"color: #00d7ff; text-decoration-color: #00d7ff\">None</span>, <span style=\"color: #00af00; text-decoration-color: #00af00\">21</span>, <span style=\"color: #00af00; text-decoration-color: #00af00\">256</span>)        │        <span style=\"color: #00af00; text-decoration-color: #00af00\">65,792</span> │\n",
       "├─────────────────────────────────┼────────────────────────┼───────────────┤\n",
       "│ max_pooling1d_16 (<span style=\"color: #0087ff; text-decoration-color: #0087ff\">MaxPooling1D</span>) │ (<span style=\"color: #00d7ff; text-decoration-color: #00d7ff\">None</span>, <span style=\"color: #00af00; text-decoration-color: #00af00\">21</span>, <span style=\"color: #00af00; text-decoration-color: #00af00\">256</span>)        │             <span style=\"color: #00af00; text-decoration-color: #00af00\">0</span> │\n",
       "├─────────────────────────────────┼────────────────────────┼───────────────┤\n",
       "│ conv1d_18 (<span style=\"color: #0087ff; text-decoration-color: #0087ff\">Conv1D</span>)              │ (<span style=\"color: #00d7ff; text-decoration-color: #00d7ff\">None</span>, <span style=\"color: #00af00; text-decoration-color: #00af00\">20</span>, <span style=\"color: #00af00; text-decoration-color: #00af00\">512</span>)        │       <span style=\"color: #00af00; text-decoration-color: #00af00\">262,656</span> │\n",
       "├─────────────────────────────────┼────────────────────────┼───────────────┤\n",
       "│ max_pooling1d_17 (<span style=\"color: #0087ff; text-decoration-color: #0087ff\">MaxPooling1D</span>) │ (<span style=\"color: #00d7ff; text-decoration-color: #00d7ff\">None</span>, <span style=\"color: #00af00; text-decoration-color: #00af00\">20</span>, <span style=\"color: #00af00; text-decoration-color: #00af00\">512</span>)        │             <span style=\"color: #00af00; text-decoration-color: #00af00\">0</span> │\n",
       "├─────────────────────────────────┼────────────────────────┼───────────────┤\n",
       "│ flatten_4 (<span style=\"color: #0087ff; text-decoration-color: #0087ff\">Flatten</span>)             │ (<span style=\"color: #00d7ff; text-decoration-color: #00d7ff\">None</span>, <span style=\"color: #00af00; text-decoration-color: #00af00\">10240</span>)          │             <span style=\"color: #00af00; text-decoration-color: #00af00\">0</span> │\n",
       "├─────────────────────────────────┼────────────────────────┼───────────────┤\n",
       "│ dense_20 (<span style=\"color: #0087ff; text-decoration-color: #0087ff\">Dense</span>)                │ (<span style=\"color: #00d7ff; text-decoration-color: #00d7ff\">None</span>, <span style=\"color: #00af00; text-decoration-color: #00af00\">1024</span>)           │    <span style=\"color: #00af00; text-decoration-color: #00af00\">10,486,784</span> │\n",
       "├─────────────────────────────────┼────────────────────────┼───────────────┤\n",
       "│ dense_21 (<span style=\"color: #0087ff; text-decoration-color: #0087ff\">Dense</span>)                │ (<span style=\"color: #00d7ff; text-decoration-color: #00d7ff\">None</span>, <span style=\"color: #00af00; text-decoration-color: #00af00\">512</span>)            │       <span style=\"color: #00af00; text-decoration-color: #00af00\">524,800</span> │\n",
       "├─────────────────────────────────┼────────────────────────┼───────────────┤\n",
       "│ dense_22 (<span style=\"color: #0087ff; text-decoration-color: #0087ff\">Dense</span>)                │ (<span style=\"color: #00d7ff; text-decoration-color: #00d7ff\">None</span>, <span style=\"color: #00af00; text-decoration-color: #00af00\">256</span>)            │       <span style=\"color: #00af00; text-decoration-color: #00af00\">131,328</span> │\n",
       "├─────────────────────────────────┼────────────────────────┼───────────────┤\n",
       "│ dense_23 (<span style=\"color: #0087ff; text-decoration-color: #0087ff\">Dense</span>)                │ (<span style=\"color: #00d7ff; text-decoration-color: #00d7ff\">None</span>, <span style=\"color: #00af00; text-decoration-color: #00af00\">17</span>)             │         <span style=\"color: #00af00; text-decoration-color: #00af00\">4,369</span> │\n",
       "└─────────────────────────────────┴────────────────────────┴───────────────┘\n",
       "</pre>\n"
      ],
      "text/plain": [
       "┏━━━━━━━━━━━━━━━━━━━━━━━━━━━━━━━━━┳━━━━━━━━━━━━━━━━━━━━━━━━┳━━━━━━━━━━━━━━━┓\n",
       "┃\u001b[1m \u001b[0m\u001b[1mLayer (type)                   \u001b[0m\u001b[1m \u001b[0m┃\u001b[1m \u001b[0m\u001b[1mOutput Shape          \u001b[0m\u001b[1m \u001b[0m┃\u001b[1m \u001b[0m\u001b[1m      Param #\u001b[0m\u001b[1m \u001b[0m┃\n",
       "┡━━━━━━━━━━━━━━━━━━━━━━━━━━━━━━━━━╇━━━━━━━━━━━━━━━━━━━━━━━━╇━━━━━━━━━━━━━━━┩\n",
       "│ conv1d_16 (\u001b[38;5;33mConv1D\u001b[0m)              │ (\u001b[38;5;45mNone\u001b[0m, \u001b[38;5;34m22\u001b[0m, \u001b[38;5;34m128\u001b[0m)        │           \u001b[38;5;34m384\u001b[0m │\n",
       "├─────────────────────────────────┼────────────────────────┼───────────────┤\n",
       "│ max_pooling1d_15 (\u001b[38;5;33mMaxPooling1D\u001b[0m) │ (\u001b[38;5;45mNone\u001b[0m, \u001b[38;5;34m22\u001b[0m, \u001b[38;5;34m128\u001b[0m)        │             \u001b[38;5;34m0\u001b[0m │\n",
       "├─────────────────────────────────┼────────────────────────┼───────────────┤\n",
       "│ conv1d_17 (\u001b[38;5;33mConv1D\u001b[0m)              │ (\u001b[38;5;45mNone\u001b[0m, \u001b[38;5;34m21\u001b[0m, \u001b[38;5;34m256\u001b[0m)        │        \u001b[38;5;34m65,792\u001b[0m │\n",
       "├─────────────────────────────────┼────────────────────────┼───────────────┤\n",
       "│ max_pooling1d_16 (\u001b[38;5;33mMaxPooling1D\u001b[0m) │ (\u001b[38;5;45mNone\u001b[0m, \u001b[38;5;34m21\u001b[0m, \u001b[38;5;34m256\u001b[0m)        │             \u001b[38;5;34m0\u001b[0m │\n",
       "├─────────────────────────────────┼────────────────────────┼───────────────┤\n",
       "│ conv1d_18 (\u001b[38;5;33mConv1D\u001b[0m)              │ (\u001b[38;5;45mNone\u001b[0m, \u001b[38;5;34m20\u001b[0m, \u001b[38;5;34m512\u001b[0m)        │       \u001b[38;5;34m262,656\u001b[0m │\n",
       "├─────────────────────────────────┼────────────────────────┼───────────────┤\n",
       "│ max_pooling1d_17 (\u001b[38;5;33mMaxPooling1D\u001b[0m) │ (\u001b[38;5;45mNone\u001b[0m, \u001b[38;5;34m20\u001b[0m, \u001b[38;5;34m512\u001b[0m)        │             \u001b[38;5;34m0\u001b[0m │\n",
       "├─────────────────────────────────┼────────────────────────┼───────────────┤\n",
       "│ flatten_4 (\u001b[38;5;33mFlatten\u001b[0m)             │ (\u001b[38;5;45mNone\u001b[0m, \u001b[38;5;34m10240\u001b[0m)          │             \u001b[38;5;34m0\u001b[0m │\n",
       "├─────────────────────────────────┼────────────────────────┼───────────────┤\n",
       "│ dense_20 (\u001b[38;5;33mDense\u001b[0m)                │ (\u001b[38;5;45mNone\u001b[0m, \u001b[38;5;34m1024\u001b[0m)           │    \u001b[38;5;34m10,486,784\u001b[0m │\n",
       "├─────────────────────────────────┼────────────────────────┼───────────────┤\n",
       "│ dense_21 (\u001b[38;5;33mDense\u001b[0m)                │ (\u001b[38;5;45mNone\u001b[0m, \u001b[38;5;34m512\u001b[0m)            │       \u001b[38;5;34m524,800\u001b[0m │\n",
       "├─────────────────────────────────┼────────────────────────┼───────────────┤\n",
       "│ dense_22 (\u001b[38;5;33mDense\u001b[0m)                │ (\u001b[38;5;45mNone\u001b[0m, \u001b[38;5;34m256\u001b[0m)            │       \u001b[38;5;34m131,328\u001b[0m │\n",
       "├─────────────────────────────────┼────────────────────────┼───────────────┤\n",
       "│ dense_23 (\u001b[38;5;33mDense\u001b[0m)                │ (\u001b[38;5;45mNone\u001b[0m, \u001b[38;5;34m17\u001b[0m)             │         \u001b[38;5;34m4,369\u001b[0m │\n",
       "└─────────────────────────────────┴────────────────────────┴───────────────┘\n"
      ]
     },
     "metadata": {},
     "output_type": "display_data"
    },
    {
     "data": {
      "text/html": [
       "<pre style=\"white-space:pre;overflow-x:auto;line-height:normal;font-family:Menlo,'DejaVu Sans Mono',consolas,'Courier New',monospace\"><span style=\"font-weight: bold\"> Total params: </span><span style=\"color: #00af00; text-decoration-color: #00af00\">11,476,113</span> (43.78 MB)\n",
       "</pre>\n"
      ],
      "text/plain": [
       "\u001b[1m Total params: \u001b[0m\u001b[38;5;34m11,476,113\u001b[0m (43.78 MB)\n"
      ]
     },
     "metadata": {},
     "output_type": "display_data"
    },
    {
     "data": {
      "text/html": [
       "<pre style=\"white-space:pre;overflow-x:auto;line-height:normal;font-family:Menlo,'DejaVu Sans Mono',consolas,'Courier New',monospace\"><span style=\"font-weight: bold\"> Trainable params: </span><span style=\"color: #00af00; text-decoration-color: #00af00\">11,476,113</span> (43.78 MB)\n",
       "</pre>\n"
      ],
      "text/plain": [
       "\u001b[1m Trainable params: \u001b[0m\u001b[38;5;34m11,476,113\u001b[0m (43.78 MB)\n"
      ]
     },
     "metadata": {},
     "output_type": "display_data"
    },
    {
     "data": {
      "text/html": [
       "<pre style=\"white-space:pre;overflow-x:auto;line-height:normal;font-family:Menlo,'DejaVu Sans Mono',consolas,'Courier New',monospace\"><span style=\"font-weight: bold\"> Non-trainable params: </span><span style=\"color: #00af00; text-decoration-color: #00af00\">0</span> (0.00 B)\n",
       "</pre>\n"
      ],
      "text/plain": [
       "\u001b[1m Non-trainable params: \u001b[0m\u001b[38;5;34m0\u001b[0m (0.00 B)\n"
      ]
     },
     "metadata": {},
     "output_type": "display_data"
    },
    {
     "name": "stdout",
     "output_type": "stream",
     "text": [
      "None\n"
     ]
    }
   ],
   "source": [
    "from keras.models import Sequential\n",
    "from keras.layers import Conv1D, MaxPooling1D, Flatten, Dense\n",
    "\n",
    "model = Sequential()\n",
    "model.add(Conv1D(128, kernel_size=2, activation='relu', input_shape=(x_train.shape[1], 1)))\n",
    "model.add(MaxPooling1D(pool_size=1))\n",
    "model.add(Conv1D(256, kernel_size=2, activation='relu'))\n",
    "model.add(MaxPooling1D(pool_size=1))\n",
    "model.add(Conv1D(512, kernel_size=2, activation='relu'))\n",
    "model.add(MaxPooling1D(pool_size=1))\n",
    "model.add(Flatten())\n",
    "model.add(Dense(1024, activation='relu'))\n",
    "model.add(Dense(512, activation='relu'))\n",
    "model.add(Dense(256, activation='relu'))\n",
    "model.add(Dense(len(labels), activation='softmax'))\n",
    "\n",
    "model.compile(optimizer='adam', loss='sparse_categorical_crossentropy', metrics=['accuracy'])\n",
    "print(model.summary())"
   ]
  },
  {
   "cell_type": "markdown",
   "metadata": {},
   "source": [
    "### Start Training"
   ]
  },
  {
   "cell_type": "code",
   "execution_count": null,
   "metadata": {},
   "outputs": [],
   "source": [
    "epochs = 50\n",
    "batch_size = 32\n",
    "history = model.fit(x_train.reshape(x_train.shape[0], x_train.shape[1], 1), y_train, epochs=epochs, batch_size=batch_size, validation_data=(x_val.reshape(x_val.shape[0], x_val.shape[1], 1), y_val))"
   ]
  }
 ],
 "metadata": {
  "kernelspec": {
   "display_name": ".venv",
   "language": "python",
   "name": "python3"
  },
  "language_info": {
   "codemirror_mode": {
    "name": "ipython",
    "version": 3
   },
   "file_extension": ".py",
   "mimetype": "text/x-python",
   "name": "python",
   "nbconvert_exporter": "python",
   "pygments_lexer": "ipython3",
   "version": "3.11.8"
  }
 },
 "nbformat": 4,
 "nbformat_minor": 2
}
