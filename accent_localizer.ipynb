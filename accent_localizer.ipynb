{
 "cells": [
  {
   "cell_type": "markdown",
   "metadata": {},
   "source": [
    "# Accent Localizer\n",
    "\n",
    "Read README.md for problem description."
   ]
  },
  {
   "cell_type": "markdown",
   "metadata": {},
   "source": [
    "## Imports"
   ]
  },
  {
   "cell_type": "code",
   "execution_count": 1,
   "metadata": {},
   "outputs": [],
   "source": [
    "import os\n",
    "import random\n",
    "\n",
    "import pandas as pd\n",
    "\n",
    "from pydub import AudioSegment\n",
    "from pydub.playback import play\n",
    "\n",
    "from allosaurus.app import read_recognizer"
   ]
  },
  {
   "cell_type": "markdown",
   "metadata": {},
   "source": [
    "## Play a random audio file from the dataset"
   ]
  },
  {
   "cell_type": "code",
   "execution_count": 2,
   "metadata": {},
   "outputs": [
    {
     "name": "stdout",
     "output_type": "stream",
     "text": [
      "Playing audio file: ./__dataset/clips/common_voice_en_24384091.mp3\n",
      "Sentence: It is discovered that Orfieu's assistant, Scudamour, has a double in Othertime.\n"
     ]
    }
   ],
   "source": [
    "# Read tsv file\n",
    "tsv_path = './__dataset/validated.tsv'\n",
    "tsv = pd.read_csv(tsv_path, sep='\\t', dtype={'sentence_domain': str, 'segment': str})\n",
    "\n",
    "# Get and load a random audio file from the file\n",
    "path, sentence = random.choice(tsv[['path', 'sentence']].values)\n",
    "\n",
    "audio_dir = './__dataset/clips/'\n",
    "audio_path = os.path.join(audio_dir, path)\n",
    "\n",
    "# Load the audio file\n",
    "audio = AudioSegment.from_file(audio_path, format='mp3')\n",
    "\n",
    "# Play the audio file\n",
    "print(f\"Playing audio file: {audio_path}\")\n",
    "print(f\"Sentence: {sentence}\")\n",
    "play(audio)"
   ]
  },
  {
   "cell_type": "markdown",
   "metadata": {},
   "source": [
    "## Attempt to transcribe the audio file into phonemes using allosaurus"
   ]
  },
  {
   "cell_type": "code",
   "execution_count": 3,
   "metadata": {},
   "outputs": [
    {
     "name": "stdout",
     "output_type": "stream",
     "text": [
      "0.600 0.045 ɪ\n",
      "0.690 0.045 tʂ\n",
      "0.750 0.045 ɛ\n",
      "0.960 0.045 tʲ\n",
      "1.020 0.045 ʌ\n",
      "1.110 0.045 s\n",
      "1.200 0.045 k\n",
      "1.260 0.045 æ\n",
      "1.350 0.045 b̞\n",
      "1.410 0.045 a\n",
      "1.800 0.045 ð\n",
      "1.860 0.045 ɛ\n",
      "2.100 0.045 s\n",
      "2.580 0.045 ɔ\n",
      "2.670 0.045 ɹ\n",
      "2.820 0.045 f\n",
      "2.940 0.045 i\n",
      "3.150 0.045 l\n",
      "3.420 0.045 z\n",
      "3.750 0.045 ə\n",
      "3.870 0.045 s\n",
      "3.960 0.045 ɯ\n",
      "4.050 0.045 s\n",
      "4.140 0.045 t\n",
      "4.230 0.045 ɹ̩\n",
      "4.320 0.045 n\n",
      "4.590 0.045 s\n",
      "5.370 0.045 k\n",
      "5.430 0.045 ɑ\n",
      "5.520 0.045 d\n",
      "5.610 0.045 ɹ̩\n",
      "5.760 0.045 m\n",
      "5.820 0.045 uə\n",
      "6.660 0.045 h\n",
      "6.720 0.045 æ\n",
      "6.810 0.045 z\n",
      "6.900 0.045 ə\n",
      "7.050 0.045 d\n",
      "7.110 0.045 ɑ\n",
      "7.230 0.045 b\n",
      "7.290 0.045 ə\n",
      "7.320 0.045 l\n",
      "7.470 0.045 ɪ\n",
      "7.560 0.045 n\n",
      "7.860 0.045 ʔ\n",
      "7.920 0.045 ʌ\n",
      "8.010 0.045 v\n",
      "8.100 0.045 ə\n",
      "8.250 0.045 t\n",
      "8.370 0.045 a\n",
      "8.610 0.045 n\n"
     ]
    }
   ],
   "source": [
    "def convert_mp3_to_wav(mp3_path, wav_path):\n",
    "    audio = AudioSegment.from_mp3(mp3_path)\n",
    "    audio.export(wav_path, format='wav')\n",
    "\n",
    "# Load the default model\n",
    "recognizer = read_recognizer()\n",
    "\n",
    "# Write a temp path which will hold the wav file\n",
    "tmp_dir = './__dataset/tmp_wav/'\n",
    "os.makedirs(tmp_dir, exist_ok=True)\n",
    "wav_path = os.path.join(tmp_dir, 'tmp.wav')\n",
    "\n",
    "# Convert the mp3 file to wav\n",
    "convert_mp3_to_wav(audio_path, wav_path)\n",
    "\n",
    "# Recognize the audio\n",
    "text = recognizer.recognize(wav_path, timestamp=True)\n",
    "print(text)\n",
    "\n",
    "# Remove the temp wav directory and files\n",
    "os.remove(wav_path)\n",
    "os.rmdir(tmp_dir)"
   ]
  }
 ],
 "metadata": {
  "kernelspec": {
   "display_name": ".venv",
   "language": "python",
   "name": "python3"
  },
  "language_info": {
   "codemirror_mode": {
    "name": "ipython",
    "version": 3
   },
   "file_extension": ".py",
   "mimetype": "text/x-python",
   "name": "python",
   "nbconvert_exporter": "python",
   "pygments_lexer": "ipython3",
   "version": "3.11.8"
  }
 },
 "nbformat": 4,
 "nbformat_minor": 2
}
